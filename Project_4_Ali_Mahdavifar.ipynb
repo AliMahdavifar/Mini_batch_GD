{
  "nbformat": 4,
  "nbformat_minor": 0,
  "metadata": {
    "colab": {
      "name": "Project_4_Ali_Mahdavifar.ipynb",
      "provenance": [],
      "collapsed_sections": [],
      "include_colab_link": true
    },
    "kernelspec": {
      "display_name": "Python 3",
      "language": "python",
      "name": "python3"
    },
    "language_info": {
      "codemirror_mode": {
        "name": "ipython",
        "version": 3
      },
      "file_extension": ".py",
      "mimetype": "text/x-python",
      "name": "python",
      "nbconvert_exporter": "python",
      "pygments_lexer": "ipython3",
      "version": "3.7.4"
    }
  },
  "cells": [
    {
      "cell_type": "markdown",
      "metadata": {
        "id": "view-in-github",
        "colab_type": "text"
      },
      "source": [
        "<a href=\"https://colab.research.google.com/github/AliMahdavifar/Mini_batch_GD/blob/main/Project_4_Ali_Mahdavifar.ipynb\" target=\"_parent\"><img src=\"https://colab.research.google.com/assets/colab-badge.svg\" alt=\"Open In Colab\"/></a>"
      ]
    },
    {
      "cell_type": "markdown",
      "metadata": {
        "id": "OTpnyUEJrAjE"
      },
      "source": [
        "# Project 4, APS1070 Fall 2020\n",
        "#### **Linear Regression**"
      ]
    },
    {
      "cell_type": "markdown",
      "metadata": {
        "id": "fUdJ6xw3rJIG"
      },
      "source": [
        "*   Your **name**: **Ali Mahdavifar**\n"
      ]
    },
    {
      "cell_type": "markdown",
      "metadata": {
        "id": "o4UwjkNZ3NGk"
      },
      "source": [
        "## Part 1 - Getting Started [1 mark]"
      ]
    },
    {
      "cell_type": "markdown",
      "metadata": {
        "id": "Y62qieYVbct2"
      },
      "source": [
        "In Parts 1- 6 of this project, we are designing a controller to manage the ailerons of an F16 Aircraft! \n",
        "\n",
        "![Ailerons](https://raw.githubusercontent.com/aps1070-2019/datasets/master/img/airplane.gif) [Ref](https://www.grc.nasa.gov/www/k-12/BGA/Mike/airplane_parts_act.htm) \n",
        "\n",
        "\n",
        "The features describe the airplane's status, and our goal is to predict the `Goal` column, which is a command that our controller should issue. We will make our predictions by implementing linear regression without regularization."
      ]
    },
    {
      "cell_type": "code",
      "metadata": {
        "id": "WeHzS6X4Eu_v"
      },
      "source": [
        "# import libraries\n",
        "import time\n",
        "import math\n",
        "import pandas as pd\n",
        "import numpy as np\n",
        "import seaborn as sns\n",
        "import matplotlib.pyplot as plt\n",
        "from scipy.linalg import inv\n",
        "from sklearn.model_selection import train_test_split\n",
        "from sklearn.preprocessing import StandardScaler\n",
        "from sklearn.linear_model import LinearRegression\n",
        "from sklearn.linear_model import Ridge\n",
        "from sklearn.preprocessing import PolynomialFeatures\n",
        "from sklearn.metrics import mean_squared_error\n",
        "from sklearn.linear_model import LinearRegression"
      ],
      "execution_count": null,
      "outputs": []
    },
    {
      "cell_type": "code",
      "metadata": {
        "id": "wVI7N2nWbct3"
      },
      "source": [
        "# import data\n",
        "df=pd.read_csv(\"https://raw.githubusercontent.com/aps1070-2019/datasets/master/F16L.csv\" , skipinitialspace=True)"
      ],
      "execution_count": null,
      "outputs": []
    },
    {
      "cell_type": "markdown",
      "metadata": {
        "id": "MKRMb9Ju3NGl"
      },
      "source": [
        "1. Print the dataframe.\n",
        "2. Prepare your dataset as follows: **[1]**\n",
        "*   Split the dataset into training and validation sets (80% training, 20% validation). When splitting, set `random_state=1`.\n",
        "*   Standardize the data using StandardScaler from sklearn.\n",
        "*   Insert a first column of 1s in both the training and validation data sets.\n"
      ]
    },
    {
      "cell_type": "code",
      "metadata": {
        "id": "barDBI-f5Q9s",
        "colab": {
          "base_uri": "https://localhost:8080/",
          "height": 456
        },
        "outputId": "be1ef164-4f6b-42b0-89f9-2cc9d03772ab"
      },
      "source": [
        "# print dataframe\n",
        "df"
      ],
      "execution_count": null,
      "outputs": [
        {
          "output_type": "execute_result",
          "data": {
            "text/html": [
              "<div>\n",
              "<style scoped>\n",
              "    .dataframe tbody tr th:only-of-type {\n",
              "        vertical-align: middle;\n",
              "    }\n",
              "\n",
              "    .dataframe tbody tr th {\n",
              "        vertical-align: top;\n",
              "    }\n",
              "\n",
              "    .dataframe thead th {\n",
              "        text-align: right;\n",
              "    }\n",
              "</style>\n",
              "<table border=\"1\" class=\"dataframe\">\n",
              "  <thead>\n",
              "    <tr style=\"text-align: right;\">\n",
              "      <th></th>\n",
              "      <th>inputs ClimbRate</th>\n",
              "      <th>Sgz</th>\n",
              "      <th>P</th>\n",
              "      <th>Q</th>\n",
              "      <th>CurPitch</th>\n",
              "      <th>CurRoll</th>\n",
              "      <th>AbsRoll</th>\n",
              "      <th>DiffClb</th>\n",
              "      <th>DiffRollRate</th>\n",
              "      <th>DiffDiffClb</th>\n",
              "      <th>SeTime1</th>\n",
              "      <th>SeTime2</th>\n",
              "      <th>SeTime3</th>\n",
              "      <th>SeTime4</th>\n",
              "      <th>SeTime5</th>\n",
              "      <th>SeTime6</th>\n",
              "      <th>SeTime7</th>\n",
              "      <th>SeTime8</th>\n",
              "      <th>SeTime9</th>\n",
              "      <th>SeTime10</th>\n",
              "      <th>SeTime11</th>\n",
              "      <th>SeTime12</th>\n",
              "      <th>SeTime13</th>\n",
              "      <th>SeTime14</th>\n",
              "      <th>DiffSeTime1</th>\n",
              "      <th>DiffSeTime2</th>\n",
              "      <th>DiffSeTime3</th>\n",
              "      <th>DiffSeTime4</th>\n",
              "      <th>DiffSeTime5</th>\n",
              "      <th>DiffSeTime6</th>\n",
              "      <th>DiffSeTime7</th>\n",
              "      <th>DiffSeTime8</th>\n",
              "      <th>DiffSeTime9</th>\n",
              "      <th>DiffSeTime10</th>\n",
              "      <th>DiffSeTime11</th>\n",
              "      <th>DiffSeTime12</th>\n",
              "      <th>DiffSeTime13</th>\n",
              "      <th>DiffSeTime14</th>\n",
              "      <th>Alpha</th>\n",
              "      <th>Se</th>\n",
              "      <th>Goal</th>\n",
              "    </tr>\n",
              "  </thead>\n",
              "  <tbody>\n",
              "    <tr>\n",
              "      <th>0</th>\n",
              "      <td>-17</td>\n",
              "      <td>-6</td>\n",
              "      <td>-0.03</td>\n",
              "      <td>0.14</td>\n",
              "      <td>0.59</td>\n",
              "      <td>-0.5</td>\n",
              "      <td>-11</td>\n",
              "      <td>-9</td>\n",
              "      <td>0.015</td>\n",
              "      <td>-0.2</td>\n",
              "      <td>0.019</td>\n",
              "      <td>0.019</td>\n",
              "      <td>0.019</td>\n",
              "      <td>0.020</td>\n",
              "      <td>0.020</td>\n",
              "      <td>0.020</td>\n",
              "      <td>0.020</td>\n",
              "      <td>0.021</td>\n",
              "      <td>0.021</td>\n",
              "      <td>0.021</td>\n",
              "      <td>0.021</td>\n",
              "      <td>0.021</td>\n",
              "      <td>0.021</td>\n",
              "      <td>0.021</td>\n",
              "      <td>0.000</td>\n",
              "      <td>0.0</td>\n",
              "      <td>-0.002</td>\n",
              "      <td>0.0</td>\n",
              "      <td>0.0</td>\n",
              "      <td>0.0</td>\n",
              "      <td>-0.002</td>\n",
              "      <td>0.0</td>\n",
              "      <td>0.000</td>\n",
              "      <td>0.0</td>\n",
              "      <td>0.000</td>\n",
              "      <td>0.0</td>\n",
              "      <td>0.000</td>\n",
              "      <td>0.0</td>\n",
              "      <td>0.6</td>\n",
              "      <td>0.021</td>\n",
              "      <td>-0.0008</td>\n",
              "    </tr>\n",
              "    <tr>\n",
              "      <th>1</th>\n",
              "      <td>-791</td>\n",
              "      <td>15</td>\n",
              "      <td>-0.28</td>\n",
              "      <td>-0.34</td>\n",
              "      <td>1.11</td>\n",
              "      <td>0.9</td>\n",
              "      <td>-10</td>\n",
              "      <td>27</td>\n",
              "      <td>-0.002</td>\n",
              "      <td>4.7</td>\n",
              "      <td>0.013</td>\n",
              "      <td>0.013</td>\n",
              "      <td>0.013</td>\n",
              "      <td>0.013</td>\n",
              "      <td>0.013</td>\n",
              "      <td>0.013</td>\n",
              "      <td>0.013</td>\n",
              "      <td>0.013</td>\n",
              "      <td>0.013</td>\n",
              "      <td>0.013</td>\n",
              "      <td>0.013</td>\n",
              "      <td>0.013</td>\n",
              "      <td>0.013</td>\n",
              "      <td>0.013</td>\n",
              "      <td>0.000</td>\n",
              "      <td>0.0</td>\n",
              "      <td>0.000</td>\n",
              "      <td>0.0</td>\n",
              "      <td>0.0</td>\n",
              "      <td>0.0</td>\n",
              "      <td>0.000</td>\n",
              "      <td>0.0</td>\n",
              "      <td>0.000</td>\n",
              "      <td>0.0</td>\n",
              "      <td>0.000</td>\n",
              "      <td>0.0</td>\n",
              "      <td>0.000</td>\n",
              "      <td>0.0</td>\n",
              "      <td>0.4</td>\n",
              "      <td>0.013</td>\n",
              "      <td>-0.0009</td>\n",
              "    </tr>\n",
              "    <tr>\n",
              "      <th>2</th>\n",
              "      <td>-46</td>\n",
              "      <td>48</td>\n",
              "      <td>-0.42</td>\n",
              "      <td>0.07</td>\n",
              "      <td>0.57</td>\n",
              "      <td>0.6</td>\n",
              "      <td>-5</td>\n",
              "      <td>-8</td>\n",
              "      <td>-0.008</td>\n",
              "      <td>0.0</td>\n",
              "      <td>0.018</td>\n",
              "      <td>0.019</td>\n",
              "      <td>0.019</td>\n",
              "      <td>0.019</td>\n",
              "      <td>0.019</td>\n",
              "      <td>0.019</td>\n",
              "      <td>0.019</td>\n",
              "      <td>0.019</td>\n",
              "      <td>0.019</td>\n",
              "      <td>0.019</td>\n",
              "      <td>0.019</td>\n",
              "      <td>0.019</td>\n",
              "      <td>0.019</td>\n",
              "      <td>0.019</td>\n",
              "      <td>-0.002</td>\n",
              "      <td>0.0</td>\n",
              "      <td>0.000</td>\n",
              "      <td>0.0</td>\n",
              "      <td>0.0</td>\n",
              "      <td>0.0</td>\n",
              "      <td>0.000</td>\n",
              "      <td>0.0</td>\n",
              "      <td>0.000</td>\n",
              "      <td>0.0</td>\n",
              "      <td>0.000</td>\n",
              "      <td>0.0</td>\n",
              "      <td>0.000</td>\n",
              "      <td>0.0</td>\n",
              "      <td>0.5</td>\n",
              "      <td>0.019</td>\n",
              "      <td>-0.0005</td>\n",
              "    </tr>\n",
              "    <tr>\n",
              "      <th>3</th>\n",
              "      <td>496</td>\n",
              "      <td>-5</td>\n",
              "      <td>-0.21</td>\n",
              "      <td>-0.04</td>\n",
              "      <td>0.03</td>\n",
              "      <td>-0.5</td>\n",
              "      <td>-7</td>\n",
              "      <td>6</td>\n",
              "      <td>-0.002</td>\n",
              "      <td>-0.1</td>\n",
              "      <td>0.019</td>\n",
              "      <td>0.019</td>\n",
              "      <td>0.019</td>\n",
              "      <td>0.019</td>\n",
              "      <td>0.019</td>\n",
              "      <td>0.019</td>\n",
              "      <td>0.019</td>\n",
              "      <td>0.019</td>\n",
              "      <td>0.019</td>\n",
              "      <td>0.019</td>\n",
              "      <td>0.019</td>\n",
              "      <td>0.018</td>\n",
              "      <td>0.018</td>\n",
              "      <td>0.017</td>\n",
              "      <td>-0.001</td>\n",
              "      <td>0.0</td>\n",
              "      <td>0.000</td>\n",
              "      <td>0.0</td>\n",
              "      <td>0.0</td>\n",
              "      <td>0.0</td>\n",
              "      <td>0.000</td>\n",
              "      <td>0.0</td>\n",
              "      <td>0.000</td>\n",
              "      <td>0.0</td>\n",
              "      <td>0.001</td>\n",
              "      <td>0.0</td>\n",
              "      <td>0.001</td>\n",
              "      <td>0.0</td>\n",
              "      <td>0.5</td>\n",
              "      <td>0.017</td>\n",
              "      <td>-0.0005</td>\n",
              "    </tr>\n",
              "    <tr>\n",
              "      <th>4</th>\n",
              "      <td>-124</td>\n",
              "      <td>16</td>\n",
              "      <td>-0.02</td>\n",
              "      <td>0.05</td>\n",
              "      <td>0.61</td>\n",
              "      <td>-0.2</td>\n",
              "      <td>-9</td>\n",
              "      <td>-3</td>\n",
              "      <td>0.000</td>\n",
              "      <td>0.0</td>\n",
              "      <td>0.018</td>\n",
              "      <td>0.018</td>\n",
              "      <td>0.018</td>\n",
              "      <td>0.018</td>\n",
              "      <td>0.018</td>\n",
              "      <td>0.018</td>\n",
              "      <td>0.018</td>\n",
              "      <td>0.018</td>\n",
              "      <td>0.018</td>\n",
              "      <td>0.018</td>\n",
              "      <td>0.018</td>\n",
              "      <td>0.018</td>\n",
              "      <td>0.018</td>\n",
              "      <td>0.018</td>\n",
              "      <td>0.000</td>\n",
              "      <td>0.0</td>\n",
              "      <td>0.000</td>\n",
              "      <td>0.0</td>\n",
              "      <td>0.0</td>\n",
              "      <td>0.0</td>\n",
              "      <td>0.000</td>\n",
              "      <td>0.0</td>\n",
              "      <td>0.000</td>\n",
              "      <td>0.0</td>\n",
              "      <td>0.000</td>\n",
              "      <td>0.0</td>\n",
              "      <td>0.000</td>\n",
              "      <td>0.0</td>\n",
              "      <td>0.5</td>\n",
              "      <td>0.018</td>\n",
              "      <td>-0.0006</td>\n",
              "    </tr>\n",
              "    <tr>\n",
              "      <th>...</th>\n",
              "      <td>...</td>\n",
              "      <td>...</td>\n",
              "      <td>...</td>\n",
              "      <td>...</td>\n",
              "      <td>...</td>\n",
              "      <td>...</td>\n",
              "      <td>...</td>\n",
              "      <td>...</td>\n",
              "      <td>...</td>\n",
              "      <td>...</td>\n",
              "      <td>...</td>\n",
              "      <td>...</td>\n",
              "      <td>...</td>\n",
              "      <td>...</td>\n",
              "      <td>...</td>\n",
              "      <td>...</td>\n",
              "      <td>...</td>\n",
              "      <td>...</td>\n",
              "      <td>...</td>\n",
              "      <td>...</td>\n",
              "      <td>...</td>\n",
              "      <td>...</td>\n",
              "      <td>...</td>\n",
              "      <td>...</td>\n",
              "      <td>...</td>\n",
              "      <td>...</td>\n",
              "      <td>...</td>\n",
              "      <td>...</td>\n",
              "      <td>...</td>\n",
              "      <td>...</td>\n",
              "      <td>...</td>\n",
              "      <td>...</td>\n",
              "      <td>...</td>\n",
              "      <td>...</td>\n",
              "      <td>...</td>\n",
              "      <td>...</td>\n",
              "      <td>...</td>\n",
              "      <td>...</td>\n",
              "      <td>...</td>\n",
              "      <td>...</td>\n",
              "      <td>...</td>\n",
              "    </tr>\n",
              "    <tr>\n",
              "      <th>13745</th>\n",
              "      <td>-53</td>\n",
              "      <td>-13</td>\n",
              "      <td>-0.07</td>\n",
              "      <td>0.02</td>\n",
              "      <td>0.58</td>\n",
              "      <td>-2.3</td>\n",
              "      <td>-15</td>\n",
              "      <td>12</td>\n",
              "      <td>0.022</td>\n",
              "      <td>-0.8</td>\n",
              "      <td>0.019</td>\n",
              "      <td>0.019</td>\n",
              "      <td>0.019</td>\n",
              "      <td>0.019</td>\n",
              "      <td>0.019</td>\n",
              "      <td>0.019</td>\n",
              "      <td>0.019</td>\n",
              "      <td>0.019</td>\n",
              "      <td>0.019</td>\n",
              "      <td>0.019</td>\n",
              "      <td>0.019</td>\n",
              "      <td>0.019</td>\n",
              "      <td>0.019</td>\n",
              "      <td>0.019</td>\n",
              "      <td>0.000</td>\n",
              "      <td>0.0</td>\n",
              "      <td>0.000</td>\n",
              "      <td>0.0</td>\n",
              "      <td>0.0</td>\n",
              "      <td>0.0</td>\n",
              "      <td>0.000</td>\n",
              "      <td>0.0</td>\n",
              "      <td>0.000</td>\n",
              "      <td>0.0</td>\n",
              "      <td>0.000</td>\n",
              "      <td>0.0</td>\n",
              "      <td>-0.001</td>\n",
              "      <td>0.0</td>\n",
              "      <td>0.5</td>\n",
              "      <td>0.019</td>\n",
              "      <td>-0.0007</td>\n",
              "    </tr>\n",
              "    <tr>\n",
              "      <th>13746</th>\n",
              "      <td>1</td>\n",
              "      <td>4</td>\n",
              "      <td>-0.11</td>\n",
              "      <td>-0.07</td>\n",
              "      <td>0.47</td>\n",
              "      <td>0.8</td>\n",
              "      <td>-5</td>\n",
              "      <td>8</td>\n",
              "      <td>-0.003</td>\n",
              "      <td>-0.2</td>\n",
              "      <td>0.016</td>\n",
              "      <td>0.016</td>\n",
              "      <td>0.016</td>\n",
              "      <td>0.016</td>\n",
              "      <td>0.016</td>\n",
              "      <td>0.016</td>\n",
              "      <td>0.016</td>\n",
              "      <td>0.016</td>\n",
              "      <td>0.016</td>\n",
              "      <td>0.016</td>\n",
              "      <td>0.016</td>\n",
              "      <td>0.016</td>\n",
              "      <td>0.016</td>\n",
              "      <td>0.016</td>\n",
              "      <td>0.000</td>\n",
              "      <td>0.0</td>\n",
              "      <td>0.000</td>\n",
              "      <td>0.0</td>\n",
              "      <td>0.0</td>\n",
              "      <td>0.0</td>\n",
              "      <td>0.000</td>\n",
              "      <td>0.0</td>\n",
              "      <td>0.000</td>\n",
              "      <td>0.0</td>\n",
              "      <td>0.000</td>\n",
              "      <td>0.0</td>\n",
              "      <td>0.000</td>\n",
              "      <td>0.0</td>\n",
              "      <td>0.5</td>\n",
              "      <td>0.016</td>\n",
              "      <td>-0.0004</td>\n",
              "    </tr>\n",
              "    <tr>\n",
              "      <th>13747</th>\n",
              "      <td>425</td>\n",
              "      <td>-14</td>\n",
              "      <td>0.40</td>\n",
              "      <td>0.07</td>\n",
              "      <td>0.41</td>\n",
              "      <td>-2.1</td>\n",
              "      <td>-16</td>\n",
              "      <td>12</td>\n",
              "      <td>0.031</td>\n",
              "      <td>-0.7</td>\n",
              "      <td>0.035</td>\n",
              "      <td>0.035</td>\n",
              "      <td>0.035</td>\n",
              "      <td>0.035</td>\n",
              "      <td>0.035</td>\n",
              "      <td>0.035</td>\n",
              "      <td>0.035</td>\n",
              "      <td>0.035</td>\n",
              "      <td>0.035</td>\n",
              "      <td>0.034</td>\n",
              "      <td>0.034</td>\n",
              "      <td>0.034</td>\n",
              "      <td>0.034</td>\n",
              "      <td>0.032</td>\n",
              "      <td>0.000</td>\n",
              "      <td>0.0</td>\n",
              "      <td>0.000</td>\n",
              "      <td>0.0</td>\n",
              "      <td>0.0</td>\n",
              "      <td>0.0</td>\n",
              "      <td>0.000</td>\n",
              "      <td>0.0</td>\n",
              "      <td>0.001</td>\n",
              "      <td>0.0</td>\n",
              "      <td>0.000</td>\n",
              "      <td>0.0</td>\n",
              "      <td>0.001</td>\n",
              "      <td>0.0</td>\n",
              "      <td>0.9</td>\n",
              "      <td>0.032</td>\n",
              "      <td>-0.0015</td>\n",
              "    </tr>\n",
              "    <tr>\n",
              "      <th>13748</th>\n",
              "      <td>102</td>\n",
              "      <td>-10</td>\n",
              "      <td>-0.19</td>\n",
              "      <td>0.08</td>\n",
              "      <td>1.30</td>\n",
              "      <td>0.5</td>\n",
              "      <td>-10</td>\n",
              "      <td>-3</td>\n",
              "      <td>-0.003</td>\n",
              "      <td>-0.2</td>\n",
              "      <td>0.051</td>\n",
              "      <td>0.051</td>\n",
              "      <td>0.051</td>\n",
              "      <td>0.051</td>\n",
              "      <td>0.051</td>\n",
              "      <td>0.051</td>\n",
              "      <td>0.051</td>\n",
              "      <td>0.051</td>\n",
              "      <td>0.051</td>\n",
              "      <td>0.051</td>\n",
              "      <td>0.051</td>\n",
              "      <td>0.051</td>\n",
              "      <td>0.051</td>\n",
              "      <td>0.051</td>\n",
              "      <td>0.000</td>\n",
              "      <td>0.0</td>\n",
              "      <td>0.000</td>\n",
              "      <td>0.0</td>\n",
              "      <td>0.0</td>\n",
              "      <td>0.0</td>\n",
              "      <td>0.000</td>\n",
              "      <td>0.0</td>\n",
              "      <td>0.000</td>\n",
              "      <td>0.0</td>\n",
              "      <td>0.000</td>\n",
              "      <td>0.0</td>\n",
              "      <td>0.000</td>\n",
              "      <td>0.0</td>\n",
              "      <td>1.4</td>\n",
              "      <td>0.051</td>\n",
              "      <td>-0.0015</td>\n",
              "    </tr>\n",
              "    <tr>\n",
              "      <th>13749</th>\n",
              "      <td>-165</td>\n",
              "      <td>52</td>\n",
              "      <td>0.08</td>\n",
              "      <td>0.42</td>\n",
              "      <td>1.07</td>\n",
              "      <td>-1.6</td>\n",
              "      <td>-22</td>\n",
              "      <td>-15</td>\n",
              "      <td>0.007</td>\n",
              "      <td>0.0</td>\n",
              "      <td>0.033</td>\n",
              "      <td>0.034</td>\n",
              "      <td>0.034</td>\n",
              "      <td>0.034</td>\n",
              "      <td>0.034</td>\n",
              "      <td>0.034</td>\n",
              "      <td>0.034</td>\n",
              "      <td>0.034</td>\n",
              "      <td>0.034</td>\n",
              "      <td>0.034</td>\n",
              "      <td>0.034</td>\n",
              "      <td>0.034</td>\n",
              "      <td>0.034</td>\n",
              "      <td>0.034</td>\n",
              "      <td>-0.002</td>\n",
              "      <td>0.0</td>\n",
              "      <td>0.000</td>\n",
              "      <td>0.0</td>\n",
              "      <td>0.0</td>\n",
              "      <td>0.0</td>\n",
              "      <td>0.000</td>\n",
              "      <td>0.0</td>\n",
              "      <td>0.000</td>\n",
              "      <td>0.0</td>\n",
              "      <td>0.000</td>\n",
              "      <td>0.0</td>\n",
              "      <td>0.000</td>\n",
              "      <td>0.0</td>\n",
              "      <td>0.9</td>\n",
              "      <td>0.034</td>\n",
              "      <td>-0.0018</td>\n",
              "    </tr>\n",
              "  </tbody>\n",
              "</table>\n",
              "<p>13750 rows × 41 columns</p>\n",
              "</div>"
            ],
            "text/plain": [
              "       inputs ClimbRate  Sgz     P     Q  ...  DiffSeTime14  Alpha     Se    Goal\n",
              "0                   -17   -6 -0.03  0.14  ...           0.0    0.6  0.021 -0.0008\n",
              "1                  -791   15 -0.28 -0.34  ...           0.0    0.4  0.013 -0.0009\n",
              "2                   -46   48 -0.42  0.07  ...           0.0    0.5  0.019 -0.0005\n",
              "3                   496   -5 -0.21 -0.04  ...           0.0    0.5  0.017 -0.0005\n",
              "4                  -124   16 -0.02  0.05  ...           0.0    0.5  0.018 -0.0006\n",
              "...                 ...  ...   ...   ...  ...           ...    ...    ...     ...\n",
              "13745               -53  -13 -0.07  0.02  ...           0.0    0.5  0.019 -0.0007\n",
              "13746                 1    4 -0.11 -0.07  ...           0.0    0.5  0.016 -0.0004\n",
              "13747               425  -14  0.40  0.07  ...           0.0    0.9  0.032 -0.0015\n",
              "13748               102  -10 -0.19  0.08  ...           0.0    1.4  0.051 -0.0015\n",
              "13749              -165   52  0.08  0.42  ...           0.0    0.9  0.034 -0.0018\n",
              "\n",
              "[13750 rows x 41 columns]"
            ]
          },
          "metadata": {
            "tags": []
          },
          "execution_count": 59
        }
      ]
    },
    {
      "cell_type": "code",
      "metadata": {
        "id": "nZmFZYQl-0Rq"
      },
      "source": [
        "# split the dataset\n",
        "y_true = df.iloc[:,-1]\n",
        "X = df.iloc[:,0:-1]\n",
        "X_train, X_test, y_train, y_test = train_test_split(X, y_true, \\\n",
        "                                        test_size = 0.2, random_state = 1)\n",
        "\n",
        "# standardize the dataset\n",
        "scalar = StandardScaler()\n",
        "X_train = scalar.fit_transform(X_train)\n",
        "X_test = scalar.fit_transform(X_test)\n",
        "\n",
        "# add a column of ones to training and validation datasets\n",
        "arr = np.ones((1,X_train.shape[0]), dtype=int).T\n",
        "X_train =  np.append(arr, X_train, axis = 1)\n",
        "\n",
        "arr = np.ones((1,X_test.shape[0]), dtype=int).T\n",
        "X_test =  np.append(arr, X_test, axis = 1)"
      ],
      "execution_count": null,
      "outputs": []
    },
    {
      "cell_type": "markdown",
      "metadata": {
        "id": "EQ6KBnbpbcuE"
      },
      "source": [
        "## Part 2 - Linear Regression - Direct Solution [2 marks]"
      ]
    },
    {
      "cell_type": "markdown",
      "metadata": {
        "id": "qh9g1ead3NG-"
      },
      "source": [
        "Implement the direct solution to linear regression on the training set. **[1]**\n",
        "\n",
        "Report the root-mean-square error (RMSE) for both the training and validation sets.**[1]**"
      ]
    },
    {
      "cell_type": "code",
      "metadata": {
        "id": "FzLJgLvy5Re4"
      },
      "source": [
        "def rmse(yPred, y):\n",
        "    return np.sqrt(mean_squared_error(yPred, y))"
      ],
      "execution_count": null,
      "outputs": []
    },
    {
      "cell_type": "code",
      "metadata": {
        "id": "9EORHcDPG989"
      },
      "source": [
        "# analytical solution on trainning set\n",
        "W_train = np.dot(inv(np.dot(X_train.T, X_train)), np.dot(X_train.T, y_train))\n",
        "# prediction\n",
        "yPred_train = np.dot(X_train, W_train)\n",
        "yPred_test = np.dot(X_test, W_train)"
      ],
      "execution_count": null,
      "outputs": []
    },
    {
      "cell_type": "code",
      "metadata": {
        "colab": {
          "base_uri": "https://localhost:8080/"
        },
        "id": "RMJYwReDcEMW",
        "outputId": "1a52aeec-63ec-4641-8fcb-29f43d05b0df"
      },
      "source": [
        "print('RMSE Training: ', rmse(yPred_train, y_train))\n",
        "print('RMSE Validation: ', rmse(yPred_test, y_test))"
      ],
      "execution_count": null,
      "outputs": [
        {
          "output_type": "stream",
          "text": [
            "RMSE Training:  0.0001983241902503662\n",
            "RMSE Validation:  0.00018782689688354653\n"
          ],
          "name": "stdout"
        }
      ]
    },
    {
      "cell_type": "markdown",
      "metadata": {
        "id": "tceGCk1V3NG_"
      },
      "source": [
        "## Part 3 - Full Batch Gradient Descent [2 marks]"
      ]
    },
    {
      "cell_type": "markdown",
      "metadata": {
        "id": "v9DMAs3I3NHB"
      },
      "source": [
        "We will now implement a full batch gradient descent algorithm and record the training time for our model.\n",
        "\n",
        "1. Implement gradient descent for linear regression using a fixed learning rate of $\\alpha= 1e-2$, and by iterating until your model's validation RMSE converges. Here we will consider it converged once validation RMSE is within 0.1% of the Direct Solution RMSE (i.e., $RMSE_{GD} <= RMSE_{Direct Solution}*1.001$). We call this value **Convergence threshold ($CT = RMSE_{Direct Solution}*1.001$)** and will use this value in the next parts too.\n",
        "\n",
        "  *  Record the training time (from the first iteration until convergence) using the `time.time()` function. Be sure to compute the gradients yourself! Take a look at the code provided in the tutorial.**[0.5]**\n",
        "\n",
        "  * Plot the Training RMSE and the Validation RMSE vs epoch on the same figure. Epoch is the number of passes on the full training set - for full batch gradient descent, it's the same as the # of gradient updates (iterations). **[0.5]**\n",
        "\n",
        "2. Comment on overfitting/underfitting - is running the algorithm too long a concern here? **[1]**\n",
        "\n",
        "\n",
        "\n",
        "> Answer: **The model slightly underfits at around the 100th to 300th epochs by having a lower RMSE value than the validation set. By having more epochs this is fixed and the two RMSE's asymptotically converge to the same values. The algortihm can potentially run very long for our CT value. This is becasue we are performing a full-batch gradient descent on our dataset. However, by comparing the CT of the validation set with the RMSE of the training set at each epoch, we can see that the algorithm can be stopped at around the 500th epoch.**\n",
        "\n",
        "\n"
      ]
    },
    {
      "cell_type": "code",
      "metadata": {
        "id": "G3KOOJ8m5SAs",
        "colab": {
          "base_uri": "https://localhost:8080/"
        },
        "outputId": "4f7a1c4b-d09d-4f0e-f5c0-d6be928e10b9"
      },
      "source": [
        "y_train = np.array(y_train).reshape (-1,1)\n",
        "CT = rmse(yPred_test, y_test)*1.001\n",
        "\n",
        "start_time = time.time() # start timing\n",
        "w = (np.random.random(X_train.shape[1])).reshape(1,-1) # Inital weights\n",
        "lr = 1e-2  # Learning rate\n",
        "rmse_array = []\n",
        "rmse_valid_array = []\n",
        "\n",
        "for epoch in range (0, 3000): \n",
        "  y = np.dot(X_train,w.T).reshape (-1,1)\n",
        "  y_valid = np.dot(X_test,w.T).reshape (-1,1)\n",
        "\n",
        "  rmse_gd = rmse(y,y_train)\n",
        "  rmse_valid = rmse(y_valid,y_test)\n",
        "\n",
        "  rmse_array.append(rmse_gd)\n",
        "  rmse_valid_array.append(rmse_valid)\n",
        "  gradient = (1/len(y) * np.dot(X_train.T, y-y_train)).reshape(1,-1)\n",
        "  w = w - lr * gradient # weight update\n",
        "\n",
        "  if rmse_gd <= CT:\n",
        "    break;\n",
        "\n",
        "\n",
        "print(\"--- Total Training Time: %s (s) ---\" % (time.time() - start_time))"
      ],
      "execution_count": null,
      "outputs": [
        {
          "output_type": "stream",
          "text": [
            "--- Total Training Time: 3.689004898071289 (s) ---\n"
          ],
          "name": "stdout"
        }
      ]
    },
    {
      "cell_type": "code",
      "metadata": {
        "colab": {
          "base_uri": "https://localhost:8080/",
          "height": 279
        },
        "id": "jvPu-E4DbiBt",
        "outputId": "9ceb9116-7825-4f8d-ae85-7a8d8283fa2f"
      },
      "source": [
        "plt.figure()\n",
        "plt.plot(rmse_array, label = 'Training RMSE')\n",
        "plt.plot(rmse_valid_array, label = 'Validation RMSE')\n",
        "\n",
        "plt.legend()\n",
        "plt.xlabel(\"Epoch\")\n",
        "plt.ylabel(\"RMSE\")\n",
        "plt.show()"
      ],
      "execution_count": null,
      "outputs": [
        {
          "output_type": "display_data",
          "data": {
            "image/png": "[encoded data removed]",
            "text/plain": [
              "<Figure size 432x288 with 1 Axes>"
            ]
          },
          "metadata": {
            "tags": [],
            "needs_background": "light"
          }
        }
      ]
    },
    {
      "cell_type": "markdown",
      "metadata": {
        "id": "K3xwmhsr3NHS"
      },
      "source": [
        "## Part 4 - Mini-batch and Stochastic Gradient Descent [4 marks]"
      ]
    },
    {
      "cell_type": "markdown",
      "metadata": {
        "id": "rbItQ_C5Af_-"
      },
      "source": [
        "Write a function that performs mini-batch gradient descent until the convergence threshold (CT) is reached.**[1]** The inputs of that function are \n",
        "  * Training Data\n",
        "  * Validation Data\n",
        "  * Batch size\n",
        "  * Learning Rate\n",
        "  * Convergence Threshold (CT)\n",
        "  * Maximum Iterations = 20000\n",
        "\n",
        "Your function will return the following arrays: \n",
        " * The final weights after training.\n",
        " * The training RMSE at each epoch (the number of epochs is the number of passes on the full data set).\n",
        " * The validation RMSE at each epoch.\n",
        " * An array that has the elapsed time from the start of the training process to the end of each epoch (e.g., if each epoch takes exactly 2 seconds the array would look like: [2 4 6 8 ...]).\n",
        " * For certain batchsizes GD might not converge to a solution. For that reason we have a parameter \"Maximum iterations\" where we limit the total number of iterations that this function can perform. \n",
        "\n",
        "Let's now use the function to investigate the effect of batch size on convergence. When the batch size is 1, we call that stochastic gradient descent. When the batch size equals the # of training data, it is full-batch (ie all data points are used at every iteration). Anywhere in between is mini-batch (we use some of the data).\n",
        "  * Sweep different values for the mini-batch size (at least 10 values, including 1 -- Stochastic GD), each time using a learning rate of $\\alpha= 1e-2$. **Hint: Try batch sizes that are powers of two (e.g., 2,4,8,16,32,...).** These batchsizes fit better on the hardware and may achieve higher performance.  **[0.5]**\n",
        "  * Plot training and validation RMSE vs. **epoch** for all the batchsizes in a figure. The X-axis is Epoch # and the Y-axis is RMSE. **[0.5]**\n",
        "  * Plot training and validation RMSE vs. **time** for all the batchsizes in a figure. The X-axis is Time and the Y-axis is RMSE. **[0.5]**\n",
        "  * Plot Total training time (y-axis) vs. Batch size (x-axis). **[0.5]**\n",
        "  * Describe your findings, including the main takeawyas from each of your plots. **[1]**\n",
        "\n",
        "**ANSWER:**\n",
        "\n",
        "> **RMSE vs. epoch plot: it seems that there is a certain threshold where the min-batch acheives the lowest RMSE; this means by increasing the batch size we dont necessarily get the best RMSE. Due to the randomness incorporated in forming my mini batches, this threshold changes.**\n",
        "\n",
        "\n",
        "\n",
        "> **RMSE vs. time plot: understandably, the stochastic GD is going to take a longer time than the mini batch method mainly because it takes steps in a noisy direction, making it less efficient that the mini-batch method. As we increase the batch size, the computation time decreases. Computation time for batch size 256 and 512 is very similar.**\n",
        "\n",
        "\n",
        "\n",
        "> **Total time vs. batch size plot: this plot confirms the findings for the previous plot. There is a significant drop in computation time for small batch sizes compared to the stochastic GD.**\n",
        "\n",
        "\n"
      ]
    },
    {
      "cell_type": "code",
      "metadata": {
        "id": "jGQ4_OPkleDq"
      },
      "source": [
        "def miniBatch(X_train, y_train, X_test, y_test, batch_size, lr, \\\n",
        "             CT, max_iter):\n",
        "  converged = False\n",
        "  y_train = np.array(y_train).reshape (-1,1)\n",
        "\n",
        "  w = (np.random.random(X_train.shape[1])).reshape(1,-1) # Inital weights\n",
        "\n",
        "  m = len(y_train)\n",
        "  rmse_array = []\n",
        "  rmse_valid_array = []\n",
        "  time_array = []\n",
        "  epoch = 1\n",
        "\n",
        "  start_time = time.time() # start timing\n",
        "  while not converged: \n",
        "    indices = np.random.permutation(m)\n",
        "    X = X_train[indices, :]\n",
        "    y = y_train[indices]\n",
        "\n",
        "    rmse_gd = 0.0\n",
        "    rmse_valid = 0.0\n",
        "\n",
        "    for i in range (0, m, batch_size):\n",
        "      X_i = X[i:i+batch_size]\n",
        "      y_i = y[i:i+batch_size]\n",
        "\n",
        "      yPred = np.dot(X_i,w.T).reshape(-1,1)\n",
        "      gradient = (1/len(y) * np.dot(X_i.T, yPred-y_i)).reshape(1,-1)\n",
        "      w = w - lr * gradient # weight update\n",
        "\n",
        "    yPred = np.dot(X_train,w.T).reshape(-1,1)\n",
        "    y_valid = np.dot(X_test,w.T).reshape(-1,1)\n",
        "\n",
        "    rmse_valid = rmse(y_valid,y_test)\n",
        "    rmse_gd = rmse(yPred,y_train)\n",
        "\n",
        "    rmse_array.append(rmse_gd)\n",
        "    rmse_valid_array.append(rmse_valid)\n",
        "\n",
        "    time_array.append(time.time() - start_time) # record timing for one epoch\n",
        "\n",
        "    if rmse_gd <= CT:\n",
        "      converged = True\n",
        "    if epoch == max_iter:\n",
        "      break\n",
        "\n",
        "    epoch += 1\n",
        "\n",
        "  return w, rmse_array, rmse_valid_array, time_array, epoch"
      ],
      "execution_count": null,
      "outputs": []
    },
    {
      "cell_type": "code",
      "metadata": {
        "id": "qIJnc59Ovw0f"
      },
      "source": [
        "# perform mini-batch gradient descent for multiple batch sizes\n",
        "batch_sizes = [1, 2, 4, 8, 16, 32, 64, 128, 256, 512]\n",
        "CT = rmse(yPred_test, y_test)*1.001\n",
        "lr = 1e-2\n",
        "max_iter = 100\n",
        "\n",
        "y_train = np.array(y_train).reshape (-1,1)\n",
        "y_test = np.array(y_test).reshape (-1,1)\n",
        "\n",
        "rmse_arrays = np.zeros([len(batch_sizes),max_iter])\n",
        "rmse_valid_arrays = np.zeros([len(batch_sizes),max_iter])\n",
        "time_arrays = np.zeros([len(batch_sizes),max_iter])\n",
        "\n",
        "for i in range(len(batch_sizes)):\n",
        "  w, rmse_arrays[i,:], rmse_valid_arrays[i,:], time_arrays[i,:], epoch = \\\n",
        "   miniBatch(X_train, y_train, X_test, y_test, batch_sizes[i], lr, CT, max_iter)\n"
      ],
      "execution_count": null,
      "outputs": []
    },
    {
      "cell_type": "code",
      "metadata": {
        "colab": {
          "base_uri": "https://localhost:8080/",
          "height": 573
        },
        "id": "MuJbixV-GPX8",
        "outputId": "321f6a88-c6c1-43e9-fadf-24ea4c6e4502"
      },
      "source": [
        "# plot training data vs. epoch:\n",
        "fig, axs = plt.subplots()\n",
        "for i in range(len(batch_sizes)):\n",
        "  axs.plot(rmse_arrays[i,:], label = \"%i\" %(batch_sizes[i]))\n",
        "\n",
        "plt.legend(title = 'Batch Size')\n",
        "plt.xlabel(\"Epoch\")\n",
        "plt.ylabel(\"RMSE\")\n",
        "plt.title('Training Error')\n",
        "plt.show()\n",
        "\n",
        "# plot validation data vs. epoch:\n",
        "fig, axs = plt.subplots()\n",
        "for i in range(len(batch_sizes)):\n",
        "  axs.plot(rmse_valid_arrays[i,:], label = \"%i\" %(batch_sizes[i]))\n",
        "\n",
        "plt.legend(title = 'Batch Size')\n",
        "plt.xlabel(\"Epoch\")\n",
        "plt.ylabel(\"RMSE\")\n",
        "plt.title('Validation Error')\n",
        "plt.show()"
      ],
      "execution_count": null,
      "outputs": [
        {
          "output_type": "display_data",
          "data": {
            "image/png": "[encoded data removed]",
            "text/plain": [
              "<Figure size 432x288 with 1 Axes>"
            ]
          },
          "metadata": {
            "tags": [],
            "needs_background": "light"
          }
        },
        {
          "output_type": "display_data",
          "data": {
            "image/png": "[encoded data removed]",
            "text/plain": [
              "<Figure size 432x288 with 1 Axes>"
            ]
          },
          "metadata": {
            "tags": [],
            "needs_background": "light"
          }
        }
      ]
    },
    {
      "cell_type": "code",
      "metadata": {
        "colab": {
          "base_uri": "https://localhost:8080/",
          "height": 573
        },
        "id": "B-T7fJKySDRT",
        "outputId": "4433feee-ed2e-48ab-f04c-c828c6ee4294"
      },
      "source": [
        "# plot training data vs. time:\n",
        "fig, axs = plt.subplots()\n",
        "for i in range(len(batch_sizes)):\n",
        "  axs.plot(time_arrays[i,:], rmse_arrays[i,:], label = \"%i\" %(batch_sizes[i]))\n",
        "\n",
        "plt.legend(title = 'Batch Size')\n",
        "plt.xlabel(\"Time\")\n",
        "plt.ylabel(\"RMSE\")\n",
        "plt.title('Training Error')\n",
        "plt.show()\n",
        "\n",
        "# plot validation data vs. time:\n",
        "fig, axs = plt.subplots()\n",
        "for i in range(len(batch_sizes)):\n",
        "  axs.plot(time_arrays[i,:], rmse_valid_arrays[i,:], label = \"%i\" %(batch_sizes[i]))\n",
        "\n",
        "plt.legend(title = 'Batch Size')\n",
        "plt.xlabel(\"Time\")\n",
        "plt.ylabel(\"RMSE\")\n",
        "plt.title('Validation Error')\n",
        "plt.show()"
      ],
      "execution_count": null,
      "outputs": [
        {
          "output_type": "display_data",
          "data": {
            "image/png": "[encoded data removed]",
            "text/plain": [
              "<Figure size 432x288 with 1 Axes>"
            ]
          },
          "metadata": {
            "tags": [],
            "needs_background": "light"
          }
        },
        {
          "output_type": "display_data",
          "data": {
            "image/png": "[encoded data removed]",
            "text/plain": [
              "<Figure size 432x288 with 1 Axes>"
            ]
          },
          "metadata": {
            "tags": [],
            "needs_background": "light"
          }
        }
      ]
    },
    {
      "cell_type": "code",
      "metadata": {
        "colab": {
          "base_uri": "https://localhost:8080/",
          "height": 295
        },
        "id": "7IxFeftCgXJ1",
        "outputId": "773cbef9-9c87-4aca-f89f-d79a3c88c0cd"
      },
      "source": [
        "# plot total training time vs. batch size\n",
        "total_time = np.sum(time_arrays, axis=1).reshape(-1, 1)\n",
        "plt.plot(batch_sizes, total_time, '-o')\n",
        "\n",
        "plt.xlabel(\"Batch Size\")\n",
        "plt.ylabel(\"Times (s)\")\n",
        "plt.title('Total Training Times per Batch Size')\n",
        "plt.show()"
      ],
      "execution_count": null,
      "outputs": [
        {
          "output_type": "display_data",
          "data": {
            "image/png": "[encoded data removed]",
            "text/plain": [
              "<Figure size 432x288 with 1 Axes>"
            ]
          },
          "metadata": {
            "tags": [],
            "needs_background": "light"
          }
        }
      ]
    },
    {
      "cell_type": "markdown",
      "metadata": {
        "id": "m0XR0IpjlJwN"
      },
      "source": [
        "## Part 5 - Gradient Descent Learning Rate [2 marks]\n",
        "Use the function that you designed in Part 4 to investigate the effect of learning rate on convergence.\n",
        "\n",
        "Select the best batch size based on the fastest convergence time and sweep the learning rate (at least 10 values) while applying Mini-batch GD. \n",
        "  1. Plot the training and validation RMSE vs **epoch** (x-axis) for all the learning rates that you tried in a figure. **[0.5]**\n",
        "  2. Plot the training and validation RMSE vs **time** (x-axis) for all the learning rates that you tried in a figure. **[0.5]**\n",
        "  3. Describe your findings, including the main takeawyas from each of your plots. **[1]**\n",
        "\n",
        "  **ANSWER:**\n",
        "\n",
        "\n",
        "> **The error blows up for learning rates 3.0 and 5.0, although they do at different orders of magnitude. On the other hand, the rate of decrease of error for the fine leanring rate of 0.001 goes to show that the rate is very slow and inefficent in convergence. From both graphs, it seems that a learning rate of 1.0 yields the fastest convergance rate. Both types of graphs show similar behaviour for each corresponding learning rate.**\n",
        "\n",
        "\n"
      ]
    },
    {
      "cell_type": "code",
      "metadata": {
        "id": "ABlVgNHI5Sic"
      },
      "source": [
        "# perform min-batch GD for various learning rates\n",
        "lr_array = [0.001, 0.005, 0.01, 0.05, 0.1, 0.5, 1.0, 3.0, 5.0]\n",
        "# lr_array = [5.0]\n",
        "\n",
        "batch_size = 256\n",
        "CT = rmse(yPred_test, y_test)*1.001\n",
        "lr = 1e-2\n",
        "max_iter = 100\n",
        "\n",
        "y_train = np.array(y_train).reshape(-1,1)\n",
        "y_test = np.array(y_test).reshape(-1,1)\n",
        "\n",
        "rmse_arrays = np.zeros([len(lr_array),max_iter])\n",
        "rmse_valid_arrays = np.zeros([len(lr_array),max_iter])\n",
        "time_arrays = np.zeros([len(lr_array),max_iter])\n",
        "\n",
        "for i in range(len(lr_array)):\n",
        "  w, rmse_arrays[i,:], rmse_valid_arrays[i,:], time_arrays[i,:], epoch = \\\n",
        "   miniBatch(X_train, y_train, X_test, y_test, batch_size, lr_array[i], CT, max_iter)"
      ],
      "execution_count": null,
      "outputs": []
    },
    {
      "cell_type": "code",
      "metadata": {
        "colab": {
          "base_uri": "https://localhost:8080/",
          "height": 1000
        },
        "id": "LbVhCeizl0tZ",
        "outputId": "4dac1c20-bf7b-4eda-d9b4-bb04b5a96ead"
      },
      "source": [
        "# plot training data vs. epoch (converged):\n",
        "fig, axs = plt.subplots()\n",
        "for i in range(len(lr_array)-2):\n",
        "  axs.plot(rmse_arrays[i,:], label = \"%.3f\" %(lr_array[i]))\n",
        "\n",
        "plt.legend(title = 'Learning Rate')\n",
        "plt.xlabel(\"Epoch\")\n",
        "plt.ylabel(\"RMSE\")\n",
        "plt.title('Converged Training Error')\n",
        "plt.show()\n",
        "\n",
        "# plot validation data vs. epoch (converged):\n",
        "fig, axs = plt.subplots()\n",
        "for i in range(len(batch_sizes)-3):\n",
        "  axs.plot(rmse_valid_arrays[i,:], label = \"%.3f\" %(lr_array[i]))\n",
        "\n",
        "plt.legend(title = 'Learning Rate')\n",
        "plt.xlabel(\"Epoch\")\n",
        "plt.ylabel(\"RMSE\")\n",
        "plt.title('Converged Validation Error')\n",
        "plt.show()\n",
        "\n",
        "#############\n",
        "\n",
        "# plot training data vs. epoch (divereged):\n",
        "fig, axs = plt.subplots()\n",
        "for i in range(len(lr_array)-2, len(lr_array)):\n",
        "  axs.plot(rmse_arrays[i,:], label = \"%.3f\" %(lr_array[i]))\n",
        "\n",
        "plt.legend(title = 'Learning Rate')\n",
        "plt.xlabel(\"Epoch\")\n",
        "plt.ylabel(\"RMSE\")\n",
        "plt.title('Diverged Training Error')\n",
        "plt.show()\n",
        "\n",
        "# plot validation data vs. epoch (divereged):\n",
        "fig, axs = plt.subplots()\n",
        "for i in range(len(batch_sizes)-3, len(lr_array)):\n",
        "  axs.plot(rmse_valid_arrays[i,:], label = \"%.3f\" %(lr_array[i]))\n",
        "\n",
        "plt.legend(title = 'Learning Rate')\n",
        "plt.xlabel(\"Epoch\")\n",
        "plt.ylabel(\"RMSE\")\n",
        "plt.title('Diverged Validation Error')\n",
        "plt.show()"
      ],
      "execution_count": null,
      "outputs": [
        {
          "output_type": "display_data",
          "data": {
            "image/png": "[encoded data removed]",
            "text/plain": [
              "<Figure size 432x288 with 1 Axes>"
            ]
          },
          "metadata": {
            "tags": [],
            "needs_background": "light"
          }
        },
        {
          "output_type": "display_data",
          "data": {
            "image/png": "[encoded data removed]",
            "text/plain": [
              "<Figure size 432x288 with 1 Axes>"
            ]
          },
          "metadata": {
            "tags": [],
            "needs_background": "light"
          }
        },
        {
          "output_type": "display_data",
          "data": {
            "image/png": "[encoded data removed]",
            "text/plain": [
              "<Figure size 432x288 with 1 Axes>"
            ]
          },
          "metadata": {
            "tags": [],
            "needs_background": "light"
          }
        },
        {
          "output_type": "display_data",
          "data": {
            "image/png": "[encoded data removed]",
            "text/plain": [
              "<Figure size 432x288 with 1 Axes>"
            ]
          },
          "metadata": {
            "tags": [],
            "needs_background": "light"
          }
        }
      ]
    },
    {
      "cell_type": "code",
      "metadata": {
        "colab": {
          "base_uri": "https://localhost:8080/",
          "height": 1000
        },
        "id": "XChRmZuAnT7k",
        "outputId": "7feb0ce4-80e8-4061-9910-da277d5153a1"
      },
      "source": [
        "# plot training data vs. time (converged):\n",
        "fig, axs = plt.subplots()\n",
        "for i in range(len(lr_array)-2):\n",
        "  axs.plot(time_arrays[i,:], rmse_arrays[i,:], label = \"%.3f\" %(lr_array[i]))\n",
        "\n",
        "plt.legend(title = 'Learning Rate')\n",
        "plt.xlabel(\"Time\")\n",
        "plt.ylabel(\"RMSE\")\n",
        "plt.title('Converged Training Error')\n",
        "plt.show()\n",
        "\n",
        "# plot validation data vs. time (converged):\n",
        "fig, axs = plt.subplots()\n",
        "for i in range(len(batch_sizes)-3):\n",
        "  axs.plot(time_arrays[i,:], rmse_valid_arrays[i,:], label = \"%.3f\" %(lr_array[i]))\n",
        "\n",
        "plt.legend(title = 'Learning Rate')\n",
        "plt.xlabel(\"Time\")\n",
        "plt.ylabel(\"RMSE\")\n",
        "plt.title('Converged Validation Error')\n",
        "plt.show()\n",
        "\n",
        "#############\n",
        "\n",
        "# plot training data vs. time (divereged):\n",
        "fig, axs = plt.subplots()\n",
        "for i in range(len(lr_array)-2, len(lr_array)):\n",
        "  axs.plot(time_arrays[i,:], rmse_arrays[i,:], label = \"%.3f\" %(lr_array[i]))\n",
        "\n",
        "plt.legend(title = 'Learning Rate')\n",
        "plt.xlabel(\"Time\")\n",
        "plt.ylabel(\"RMSE\")\n",
        "plt.title('Diverged Training Error')\n",
        "plt.show()\n",
        "\n",
        "# plot validation data vs. time (divereged):\n",
        "fig, axs = plt.subplots()\n",
        "for i in range(len(batch_sizes)-3, len(lr_array)):\n",
        "  axs.plot(time_arrays[i,:], rmse_valid_arrays[i,:], label = \"%.3f\" %(lr_array[i]))\n",
        "\n",
        "plt.legend(title = 'Learning Rate')\n",
        "plt.xlabel(\"Time\")\n",
        "plt.ylabel(\"RMSE\")\n",
        "plt.title('Diverged Validation Error')\n",
        "plt.show()\n"
      ],
      "execution_count": null,
      "outputs": [
        {
          "output_type": "display_data",
          "data": {
            "image/png": "[encoded data removed]",
            "text/plain": [
              "<Figure size 432x288 with 1 Axes>"
            ]
          },
          "metadata": {
            "tags": [],
            "needs_background": "light"
          }
        },
        {
          "output_type": "display_data",
          "data": {
            "image/png": "[encoded data removed]",
            "text/plain": [
              "<Figure size 432x288 with 1 Axes>"
            ]
          },
          "metadata": {
            "tags": [],
            "needs_background": "light"
          }
        },
        {
          "output_type": "display_data",
          "data": {
            "image/png": "[encoded data removed]",
            "text/plain": [
              "<Figure size 432x288 with 1 Axes>"
            ]
          },
          "metadata": {
            "tags": [],
            "needs_background": "light"
          }
        },
        {
          "output_type": "display_data",
          "data": {
            "image/png": "[encoded data removed]",
            "text/plain": [
              "<Figure size 432x288 with 1 Axes>"
            ]
          },
          "metadata": {
            "tags": [],
            "needs_background": "light"
          }
        }
      ]
    },
    {
      "cell_type": "markdown",
      "metadata": {
        "id": "_APuh43i3NHU"
      },
      "source": [
        "## Part 6 - Gradient Descent with Adaptive Learning Rate [4 marks]\n",
        "Implement an adaptive learning rate scheme where you start a mini-batch gradient descent with a large learning rate and decrease the learning rate while you are getting closer to the local minima. It's up to you to come up with a way to set **when** and **how much** do you want to change the learning rate. \n",
        "Our goal is to find a method for faster convergence. \n",
        "  1. Describe **[1]** and implement **[1]** your method.\n",
        "**ANSWER:**\n",
        "\n",
        "> **We implement a step decay schedule for the learning rate, where we start with an initial rate for the first epoch and drop the rate by a factor for every 10 epochs. The formula is as follows:**\n",
        "\n",
        "```\n",
        "lr = lr0 * drop^floor(epoch / epochs_drop)\n",
        "```\n",
        "\n",
        "Source: [here](https://towardsdatascience.com/learning-rate-schedules-and-adaptive-learning-rate-methods-for-deep-learning-2c8f433990d1)\n",
        "\n",
        "\n",
        "  2. Plot the training and validation RMSE vs **epoch** for your method (adaptive learning rate), alongside your best training run from Part 5 (static learning rate). **[1]**\n",
        "  3. Plot the training and validation RMSE vs **time** for your method (adaptive learning rate), alongside your best training run from Part 5 (static learning rate). **[1]**"
      ]
    },
    {
      "cell_type": "code",
      "metadata": {
        "id": "J6y-mK8r5TD3"
      },
      "source": [
        "def step_decay(epoch):\n",
        "  initial_lr = 0.1\n",
        "  drop = 0.5\n",
        "  epochs_drop = 10.0\n",
        "  lr = initial_lr* math.pow(drop, math.floor((1+epoch)/epochs_drop))\n",
        "  return lr"
      ],
      "execution_count": null,
      "outputs": []
    },
    {
      "cell_type": "code",
      "metadata": {
        "id": "bD6xwsPq7Qeq"
      },
      "source": [
        "def adaptiveMiniBatch(X_train, y_train, X_test, y_test, batch_size, \\\n",
        "             CT, max_iter):\n",
        "  converged = False\n",
        "  y_train = np.array(y_train).reshape (-1,1)\n",
        "\n",
        "  w = (np.random.random(X_train.shape[1])).reshape(1,-1) # Inital weights\n",
        "\n",
        "  m = len(y_train)\n",
        "  rmse_array = []\n",
        "  rmse_valid_array = []\n",
        "  time_array = []\n",
        "  epoch = 1\n",
        "\n",
        "  start_time = time.time() # start timing\n",
        "  while not converged:\n",
        "    lr = step_decay(epoch) # adaptive learning rate\n",
        "\n",
        "    indices = np.random.permutation(m)\n",
        "    X = X_train[indices, :]\n",
        "    y = y_train[indices]\n",
        "\n",
        "    rmse_gd = 0.0\n",
        "    rmse_valid = 0.0\n",
        "\n",
        "    for i in range (0, m, batch_size):\n",
        "      X_i = X[i:i+batch_size]\n",
        "      y_i = y[i:i+batch_size]\n",
        "\n",
        "      yPred = np.dot(X_i,w.T).reshape(-1,1)\n",
        "      gradient = (1/len(y) * np.dot(X_i.T, yPred-y_i)).reshape(1,-1)\n",
        "      w = w - lr * gradient # weight update\n",
        "\n",
        "    yPred = np.dot(X_train,w.T).reshape(-1,1)\n",
        "    y_valid = np.dot(X_test,w.T).reshape(-1,1)\n",
        "\n",
        "    rmse_valid = rmse(y_valid,y_test)\n",
        "    rmse_gd = rmse(yPred,y_train)\n",
        "\n",
        "    rmse_array.append(rmse_gd)\n",
        "    rmse_valid_array.append(rmse_valid)\n",
        "\n",
        "    time_array.append(time.time() - start_time) # record timing for one epoch\n",
        "\n",
        "    if rmse_gd <= CT:\n",
        "      converged = True\n",
        "    if epoch == max_iter:\n",
        "      break\n",
        "\n",
        "    epoch += 1\n",
        "\n",
        "  return w, rmse_array, rmse_valid_array, time_array, epoch, lr"
      ],
      "execution_count": null,
      "outputs": []
    },
    {
      "cell_type": "code",
      "metadata": {
        "id": "8DXpAoDK_QcS"
      },
      "source": [
        "# perfrom mini-batch GD with adaptive learning rate\n",
        "batch_size = 256\n",
        "CT = rmse(yPred_test, y_test)*1.001\n",
        "max_iter = 1000\n",
        "\n",
        "y_train = np.array(y_train).reshape(-1,1)\n",
        "y_test = np.array(y_test).reshape(-1,1)\n",
        "\n",
        "w_adpt, rmse_array_adpt, rmse_valid_arrays_adpt, time_arrays_adpt, epoch_adpt, lr = \\\n",
        "  adaptiveMiniBatch(X_train, y_train, X_test, y_test, batch_size, CT, max_iter)\n",
        "\n",
        "# perform min-batch GD with static learning rate\n",
        "batch_size = 256\n",
        "CT = rmse(yPred_test, y_test)*1.001\n",
        "max_iter = 1000\n",
        "alpha = 0.01\n",
        "\n",
        "y_train = np.array(y_train).reshape(-1,1)\n",
        "y_test = np.array(y_test).reshape(-1,1)\n",
        "\n",
        "w, rmse_array, rmse_valid_array, time_array, epoch = \\\n",
        "  miniBatch(X_train, y_train, X_test, y_test, batch_size, alpha, CT, max_iter)\n"
      ],
      "execution_count": null,
      "outputs": []
    },
    {
      "cell_type": "code",
      "metadata": {
        "colab": {
          "base_uri": "https://localhost:8080/",
          "height": 573
        },
        "id": "O8U4TtjB_pvS",
        "outputId": "7e176a4a-1f80-48fc-d6ab-8503b8f1f281"
      },
      "source": [
        "# plot training and validation data vs. epoch (adaptive):\n",
        "fig, axs = plt.subplots()\n",
        "\n",
        "axs.plot(rmse_array, label = 'Training (static)')\n",
        "axs.plot(rmse_valid_array, label = 'Validation (static)')\n",
        "axs.plot(rmse_array_adpt, label = 'Training (adaptive)')\n",
        "axs.plot(rmse_valid_arrays_adpt, label = 'Validation (adaptive)')\n",
        "\n",
        "plt.legend()\n",
        "plt.xlabel(\"Epoch\")\n",
        "plt.ylabel(\"RMSE\")\n",
        "plt.title('Convergance of adaptive learning rate and learning with a rate of 0.01')\n",
        "plt.show()\n",
        "\n",
        "# plot training and validation data vs. time (adaptive):\n",
        "fig, axs = plt.subplots()\n",
        "\n",
        "axs.plot(time_array, rmse_array, label = 'Training (static)')\n",
        "axs.plot(time_array, rmse_valid_array, label = 'Validation (static)')\n",
        "axs.plot(time_arrays_adpt, rmse_array_adpt, label = 'Training (adaptive)')\n",
        "axs.plot(time_arrays_adpt, rmse_valid_arrays_adpt, label = 'Validation (adaptive)')\n",
        "\n",
        "plt.legend()\n",
        "plt.xlabel(\"Time\")\n",
        "plt.ylabel(\"RMSE\")\n",
        "plt.title('Convergance of adaptive learning rate and learning with a rate of 0.01')\n",
        "plt.show()\n"
      ],
      "execution_count": null,
      "outputs": [
        {
          "output_type": "display_data",
          "data": {
            "image/png": "[encoded data removed]",
            "text/plain": [
              "<Figure size 432x288 with 1 Axes>"
            ]
          },
          "metadata": {
            "tags": [],
            "needs_background": "light"
          }
        },
        {
          "output_type": "display_data",
          "data": {
            "image/png": "[encoded data removed]",
            "text/plain": [
              "<Figure size 432x288 with 1 Axes>"
            ]
          },
          "metadata": {
            "tags": [],
            "needs_background": "light"
          }
        }
      ]
    },
    {
      "cell_type": "markdown",
      "metadata": {
        "id": "f-1qJzYLYJTW"
      },
      "source": [
        "## Part 7 - Gradient Descent with Additional Features and Regularization [3 marks]\n",
        "\n",
        "Now, we'll apply linear regresssion to a toy dataset (`LR_data.csv`), with 10 features `x1`-`x10` and a \"measurement\" `y`. We'll take a few shortcuts by using built-in sklearn functions.\n",
        "\n",
        "1. Data Preparation **[0.5]**\n",
        "  * Print the dataset, and create Numpy arrays with inputs (X) and outputs (y). \n",
        "  * Split the dataset into training and validation sets (80% training, 20% validation). When splitting, set `random_state=1`.\n",
        "\n",
        "2. Linear Regression **[0.5]**\n",
        "  * Standardize the data using StandardScaler from sklearn.\n",
        "  * Use the `sklearn.linear_model.LinearRegression` function [here](https://scikit-learn.org/stable/modules/generated/sklearn.linear_model.LinearRegression.html) to perform linear regression.\n",
        "  * Print the RMSE for training and validation data.\n",
        "\n",
        "3. Linear Regression with Additional Features **[0.5]**\n",
        "  * Let's add more features to our dataset (up to degree 8) using `sklearn.preprocessing.PolynomialFeatures` [here](https://scikit-learn.org/stable/modules/generated/sklearn.preprocessing.PolynomialFeatures.html). You'll want to create the additional features first, then perform standardization (start from non-standardized data).\n",
        "  * Again, use `sklearn.linear_model.LinearRegression` to perform linear regression.\n",
        "  * Print the RMSE for training and validation data.\n",
        "\n",
        "4. Linear Regression with Additional Features and Regularization **[0.5]**\n",
        "  * Let's switch models, and instead use the `sklearn.linear_model.Ridge` function [here](https://scikit-learn.org/stable/modules/generated/sklearn.linear_model.Ridge.html#sklearn.linear_model.Ridge) to perform linear regression with regularization. Apply the model to the processed data (additional, standardized) you used in 3 above. Use a `FOR` loop to run `sklearn.linear_model.Ridge` with different `alpha` values. Specifically, sweep `alpha` from 1E-2 to 1E10 (each step is an order of magnitude jump).\n",
        "\n",
        "5. Discuss your results. What do you conclude? **[1]**\n",
        "\n",
        "**ANSWER:**\n",
        "\n",
        "> **By looking at the plot below and how the test error behaves over a set of regularization parameters, we can see that there is an optimal value for this parameter and that is:**\n",
        "\n",
        "```\n",
        "alpha = 1e4\n",
        "```\n",
        "\n",
        "\n",
        "\n",
        "> **Alpha serves as the regularization strength which immproves the conditionaing of the problem and reduces variance of the estimates. However, increasing this hyperparameter to an excessive value will result in a sub-optimal and less efficient solution, as it can be seen for both training and test errors for values over 1e4.**\n",
        "\n",
        "\n",
        "\n",
        "\n",
        "\n"
      ]
    },
    {
      "cell_type": "code",
      "metadata": {
        "id": "qyfNlZsiubVk"
      },
      "source": [
        "import pandas as pd\n",
        "df=pd.read_csv(\"https://www.eecg.utoronto.ca/~hadizade/APS1070/LR_data.csv\" , skipinitialspace=True)"
      ],
      "execution_count": null,
      "outputs": []
    },
    {
      "cell_type": "code",
      "metadata": {
        "colab": {
          "base_uri": "https://localhost:8080/",
          "height": 419
        },
        "id": "cB5_Q0IuDwjj",
        "outputId": "9d5984b0-7748-45db-8af8-c810ec199ffa"
      },
      "source": [
        "# 1.1 print the dataset\n",
        "df"
      ],
      "execution_count": null,
      "outputs": [
        {
          "output_type": "execute_result",
          "data": {
            "text/html": [
              "<div>\n",
              "<style scoped>\n",
              "    .dataframe tbody tr th:only-of-type {\n",
              "        vertical-align: middle;\n",
              "    }\n",
              "\n",
              "    .dataframe tbody tr th {\n",
              "        vertical-align: top;\n",
              "    }\n",
              "\n",
              "    .dataframe thead th {\n",
              "        text-align: right;\n",
              "    }\n",
              "</style>\n",
              "<table border=\"1\" class=\"dataframe\">\n",
              "  <thead>\n",
              "    <tr style=\"text-align: right;\">\n",
              "      <th></th>\n",
              "      <th>x1</th>\n",
              "      <th>x2</th>\n",
              "      <th>x3</th>\n",
              "      <th>x4</th>\n",
              "      <th>x5</th>\n",
              "      <th>x6</th>\n",
              "      <th>x7</th>\n",
              "      <th>x8</th>\n",
              "      <th>x9</th>\n",
              "      <th>x10</th>\n",
              "      <th>y</th>\n",
              "    </tr>\n",
              "  </thead>\n",
              "  <tbody>\n",
              "    <tr>\n",
              "      <th>0</th>\n",
              "      <td>1.454481</td>\n",
              "      <td>4.940543</td>\n",
              "      <td>7.116015</td>\n",
              "      <td>3.805131</td>\n",
              "      <td>4.105432</td>\n",
              "      <td>1.832290</td>\n",
              "      <td>5.211909</td>\n",
              "      <td>5.088293</td>\n",
              "      <td>3.841250</td>\n",
              "      <td>6.121133</td>\n",
              "      <td>6.575066e+06</td>\n",
              "    </tr>\n",
              "    <tr>\n",
              "      <th>1</th>\n",
              "      <td>4.907182</td>\n",
              "      <td>1.653654</td>\n",
              "      <td>7.339445</td>\n",
              "      <td>9.065282</td>\n",
              "      <td>7.169233</td>\n",
              "      <td>2.354136</td>\n",
              "      <td>2.893005</td>\n",
              "      <td>8.720131</td>\n",
              "      <td>8.646473</td>\n",
              "      <td>3.806860</td>\n",
              "      <td>8.419881e+06</td>\n",
              "    </tr>\n",
              "    <tr>\n",
              "      <th>2</th>\n",
              "      <td>1.842804</td>\n",
              "      <td>1.183878</td>\n",
              "      <td>4.203206</td>\n",
              "      <td>6.815847</td>\n",
              "      <td>6.655899</td>\n",
              "      <td>8.295816</td>\n",
              "      <td>3.556779</td>\n",
              "      <td>5.794679</td>\n",
              "      <td>3.260723</td>\n",
              "      <td>5.463808</td>\n",
              "      <td>9.745537e+04</td>\n",
              "    </tr>\n",
              "    <tr>\n",
              "      <th>3</th>\n",
              "      <td>2.393457</td>\n",
              "      <td>0.094127</td>\n",
              "      <td>3.208929</td>\n",
              "      <td>0.497443</td>\n",
              "      <td>4.318127</td>\n",
              "      <td>4.999247</td>\n",
              "      <td>9.470238</td>\n",
              "      <td>3.061990</td>\n",
              "      <td>7.312995</td>\n",
              "      <td>5.475240</td>\n",
              "      <td>1.129200e+04</td>\n",
              "    </tr>\n",
              "    <tr>\n",
              "      <th>4</th>\n",
              "      <td>5.093724</td>\n",
              "      <td>3.905293</td>\n",
              "      <td>4.858562</td>\n",
              "      <td>4.465484</td>\n",
              "      <td>0.947091</td>\n",
              "      <td>9.410307</td>\n",
              "      <td>8.137329</td>\n",
              "      <td>9.043838</td>\n",
              "      <td>9.128607</td>\n",
              "      <td>0.790795</td>\n",
              "      <td>3.105448e+05</td>\n",
              "    </tr>\n",
              "    <tr>\n",
              "      <th>...</th>\n",
              "      <td>...</td>\n",
              "      <td>...</td>\n",
              "      <td>...</td>\n",
              "      <td>...</td>\n",
              "      <td>...</td>\n",
              "      <td>...</td>\n",
              "      <td>...</td>\n",
              "      <td>...</td>\n",
              "      <td>...</td>\n",
              "      <td>...</td>\n",
              "      <td>...</td>\n",
              "    </tr>\n",
              "    <tr>\n",
              "      <th>195</th>\n",
              "      <td>2.936450</td>\n",
              "      <td>2.094812</td>\n",
              "      <td>9.493814</td>\n",
              "      <td>3.411240</td>\n",
              "      <td>4.350940</td>\n",
              "      <td>0.386062</td>\n",
              "      <td>1.303290</td>\n",
              "      <td>2.699563</td>\n",
              "      <td>7.622569</td>\n",
              "      <td>3.037162</td>\n",
              "      <td>6.599726e+07</td>\n",
              "    </tr>\n",
              "    <tr>\n",
              "      <th>196</th>\n",
              "      <td>4.915597</td>\n",
              "      <td>1.953974</td>\n",
              "      <td>7.312552</td>\n",
              "      <td>9.331203</td>\n",
              "      <td>1.329366</td>\n",
              "      <td>8.286760</td>\n",
              "      <td>5.233018</td>\n",
              "      <td>7.476923</td>\n",
              "      <td>7.043560</td>\n",
              "      <td>5.745565</td>\n",
              "      <td>8.176250e+06</td>\n",
              "    </tr>\n",
              "    <tr>\n",
              "      <th>197</th>\n",
              "      <td>6.772096</td>\n",
              "      <td>6.406489</td>\n",
              "      <td>4.638352</td>\n",
              "      <td>7.042340</td>\n",
              "      <td>0.912338</td>\n",
              "      <td>7.568296</td>\n",
              "      <td>1.194928</td>\n",
              "      <td>2.592840</td>\n",
              "      <td>9.386478</td>\n",
              "      <td>4.147710</td>\n",
              "      <td>2.144147e+05</td>\n",
              "    </tr>\n",
              "    <tr>\n",
              "      <th>198</th>\n",
              "      <td>3.940339</td>\n",
              "      <td>4.330498</td>\n",
              "      <td>6.693371</td>\n",
              "      <td>9.169265</td>\n",
              "      <td>0.858846</td>\n",
              "      <td>0.601942</td>\n",
              "      <td>2.635455</td>\n",
              "      <td>2.037859</td>\n",
              "      <td>7.883720</td>\n",
              "      <td>8.525164</td>\n",
              "      <td>4.028735e+06</td>\n",
              "    </tr>\n",
              "    <tr>\n",
              "      <th>199</th>\n",
              "      <td>8.636129</td>\n",
              "      <td>1.272939</td>\n",
              "      <td>4.339175</td>\n",
              "      <td>4.417427</td>\n",
              "      <td>5.697190</td>\n",
              "      <td>8.944253</td>\n",
              "      <td>7.952686</td>\n",
              "      <td>4.917967</td>\n",
              "      <td>9.543772</td>\n",
              "      <td>5.673870</td>\n",
              "      <td>1.257168e+05</td>\n",
              "    </tr>\n",
              "  </tbody>\n",
              "</table>\n",
              "<p>200 rows × 11 columns</p>\n",
              "</div>"
            ],
            "text/plain": [
              "           x1        x2        x3  ...        x9       x10             y\n",
              "0    1.454481  4.940543  7.116015  ...  3.841250  6.121133  6.575066e+06\n",
              "1    4.907182  1.653654  7.339445  ...  8.646473  3.806860  8.419881e+06\n",
              "2    1.842804  1.183878  4.203206  ...  3.260723  5.463808  9.745537e+04\n",
              "3    2.393457  0.094127  3.208929  ...  7.312995  5.475240  1.129200e+04\n",
              "4    5.093724  3.905293  4.858562  ...  9.128607  0.790795  3.105448e+05\n",
              "..        ...       ...       ...  ...       ...       ...           ...\n",
              "195  2.936450  2.094812  9.493814  ...  7.622569  3.037162  6.599726e+07\n",
              "196  4.915597  1.953974  7.312552  ...  7.043560  5.745565  8.176250e+06\n",
              "197  6.772096  6.406489  4.638352  ...  9.386478  4.147710  2.144147e+05\n",
              "198  3.940339  4.330498  6.693371  ...  7.883720  8.525164  4.028735e+06\n",
              "199  8.636129  1.272939  4.339175  ...  9.543772  5.673870  1.257168e+05\n",
              "\n",
              "[200 rows x 11 columns]"
            ]
          },
          "metadata": {
            "tags": []
          },
          "execution_count": 79
        }
      ]
    },
    {
      "cell_type": "code",
      "metadata": {
        "id": "NdcSBF9PDyLa"
      },
      "source": [
        "# 1.2 split the data set\n",
        "y_true = df.iloc[:,-1]\n",
        "X = df.iloc[:,0:-1]\n",
        "X_train_orig, X_test_orig, y_train_orig, y_test_orig = \\\n",
        "             train_test_split(X, y_true, test_size = 0.2, random_state = 1)\n",
        "X_train_orig = np.array(X_train_orig)\n",
        "X_test_orig = np.array(X_test_orig)\n",
        "y_train = np.array(y_train_orig).reshape(-1,1)\n",
        "y_test = np.array(y_test_orig).reshape(-1,1)\n"
      ],
      "execution_count": null,
      "outputs": []
    },
    {
      "cell_type": "code",
      "metadata": {
        "colab": {
          "base_uri": "https://localhost:8080/"
        },
        "id": "6qz16jW6EVqB",
        "outputId": "ff47ed82-2ad8-41c9-eecd-6640b16b02e9"
      },
      "source": [
        "# 2.1 standardize the dataset\n",
        "scalar = StandardScaler()\n",
        "X_train = scalar.fit_transform(X_train_orig)\n",
        "X_test = scalar.fit_transform(X_test_orig)\n",
        "\n",
        "# 2.2 perform linear regression\n",
        "reg = LinearRegression().fit(X_train, y_train)\n",
        "\n",
        "# 2.3 print RMSE for training and validation data\n",
        "y_pred_train = reg.predict(X_train)\n",
        "y_pred_test = reg.predict(X_test)\n",
        "\n",
        "rmse_train = rmse(y_pred_train, y_train)\n",
        "rmse_test = rmse(y_pred_test, y_test)\n",
        "\n",
        "print('RMSE Training: ', rmse_train)\n",
        "print('RMSE Validation: ', rmse_test)\n"
      ],
      "execution_count": null,
      "outputs": [
        {
          "output_type": "stream",
          "text": [
            "RMSE Training:  16296980.655667374\n",
            "RMSE Validation:  14701217.930816373\n"
          ],
          "name": "stdout"
        }
      ]
    },
    {
      "cell_type": "code",
      "metadata": {
        "colab": {
          "base_uri": "https://localhost:8080/"
        },
        "id": "rW2DavF4HCK5",
        "outputId": "5e7bc7ef-191b-4779-bc1e-2fc430e62e32"
      },
      "source": [
        "# 3.1 add more feature to original datasets\n",
        "poly = PolynomialFeatures(8, include_bias=False)\n",
        "X_train_og = poly.fit_transform(X_train_orig)\n",
        "X_test_og = poly.fit_transform(X_test_orig)\n",
        "\n",
        "scalar = StandardScaler()\n",
        "X_train_std = scalar.fit_transform(X_train_og)\n",
        "X_test_std = scalar.fit_transform(X_test_og)\n",
        "\n",
        "# 3.2 perform linear regression\n",
        "reg = LinearRegression().fit(X_train_std, y_train)\n",
        "\n",
        "# 3.3 print RMSE for training and validation data\n",
        "y_pred_train = reg.predict(X_train_std)\n",
        "y_pred_test = reg.predict(X_test_std)\n",
        "\n",
        "rmse_train = rmse(y_pred_train, y_train)\n",
        "rmse_test = rmse(y_pred_test, y_test)\n",
        "\n",
        "print('RMSE Training: ', rmse_train)\n",
        "print('RMSE Validation: ', rmse_test)"
      ],
      "execution_count": null,
      "outputs": [
        {
          "output_type": "stream",
          "text": [
            "RMSE Training:  7.514772862591428e-08\n",
            "RMSE Validation:  11865101.742165675\n"
          ],
          "name": "stdout"
        }
      ]
    },
    {
      "cell_type": "code",
      "metadata": {
        "id": "ryuhzVEEVuef"
      },
      "source": [
        "# 4.1 perform linear regression with regularization\n",
        "alphas=[]\n",
        "alphas = [math.pow(10,(i)) for i in range(-2,11)]\n",
        "\n",
        "rmse_train_array = []\n",
        "rmse_test_array = []\n",
        "\n",
        "for i in range(len(alphas)):\n",
        "  clf = Ridge(alpha=alphas[i])\n",
        "  reg = clf.fit(X_train_std, y_train)\n",
        "\n",
        "  y_pred_train = reg.predict(X_train_std)\n",
        "  y_pred_test = reg.predict(X_test_std)\n",
        "\n",
        "  rmse_train = rmse(y_pred_train, y_train)\n",
        "  rmse_test = rmse(y_pred_test, y_test)\n",
        "\n",
        "  rmse_train_array.append(rmse_train)\n",
        "  rmse_test_array.append(rmse_test)"
      ],
      "execution_count": null,
      "outputs": []
    },
    {
      "cell_type": "code",
      "metadata": {
        "colab": {
          "base_uri": "https://localhost:8080/",
          "height": 294
        },
        "id": "TcM40XKdaKol",
        "outputId": "9536f4db-8316-43f7-c9ca-c2933f599f3e"
      },
      "source": [
        "# 4.2 print the results\n",
        "fig, axs = plt.subplots()\n",
        "\n",
        "axs.plot(alphas, rmse_train_array, label = 'Training Set')\n",
        "axs.plot(alphas, rmse_test_array, label = 'Validation Set')\n",
        "\n",
        "axs.set_xscale('log')\n",
        "\n",
        "plt.legend()\n",
        "plt.xlabel(\"alppha\")\n",
        "plt.ylabel(\"RMSE\")\n",
        "plt.show()"
      ],
      "execution_count": null,
      "outputs": [
        {
          "output_type": "display_data",
          "data": {
            "image/png": "[encoded data removed]",
            "text/plain": [
              "<Figure size 432x288 with 1 Axes>"
            ]
          },
          "metadata": {
            "tags": [],
            "needs_background": "light"
          }
        }
      ]
    },
    {
      "cell_type": "markdown",
      "metadata": {
        "id": "0cS99Cxw3NHV"
      },
      "source": [
        "## Part 8 - Linear Regression with a Custom Dataset [2 marks]\n"
      ]
    },
    {
      "cell_type": "markdown",
      "metadata": {
        "id": "zIUuhPqA1WUe"
      },
      "source": [
        "Find a dataset online and train and validate a linear regression model with the techniques you learned in this Project.\n",
        "\n",
        "*   Introduce your dataset.**[0.5]**\n",
        "\n",
        "\n",
        "> **ANSWER: The dataset is retreived from kaggle ([here](https://www.kaggle.com/harlfoxem/housesalesprediction)), and contains house sale prices for King County. We would like to predict housing prices based on the given features of the sample points.**\n",
        "\n",
        "*   Explain your approach. **[0.5]**\n",
        "\n",
        "> **ANSWER: we implement two methods of GD with regularization as in part 7.4 and linear regression as in part 7.2.**\n",
        "\n",
        "*   Summarize your results. **[1]**\n",
        "\n",
        "> **ANSWER: For the GD method with regularization, we see that the optimal hyperparameter is, in fact, the set 1e-2 to 1e2, which yield very similar results for both training and test errors. This optmial error values is also achieved by the linear regression method confirming that they both have arrived at the same local minima for this problem.**\n",
        "\n",
        "Hint: you can find various datasets in here: https://www.kaggle.com/datasets.\n",
        "\n",
        "To use a dataset in Colab, you can upload it in your Google drive and access it in Colab ([help here](https://medium.com/analytics-vidhya/how-to-fetch-kaggle-datasets-into-google-colab-ea682569851a)), or you can download the dataset on your local machine and upload it directly to Colab using the following script.\n",
        "\n",
        "```\n",
        "from google.colab import files\n",
        "uploaded = files.upload()\n",
        "```\n",
        "\n",
        "When submitting your project on Quercus, Please make sure you are also uploading your dataset so we can fully run your notebook.\n",
        "\n",
        "\n",
        "\n",
        "\n"
      ]
    },
    {
      "cell_type": "code",
      "metadata": {
        "id": "pQlikNdORpfS",
        "colab": {
          "base_uri": "https://localhost:8080/",
          "height": 224
        },
        "outputId": "6f7d4ff4-cc68-414f-c65b-2afb13240153"
      },
      "source": [
        "df = pd.read_csv('kc_house_data.csv')\n",
        "df.head()"
      ],
      "execution_count": null,
      "outputs": [
        {
          "output_type": "execute_result",
          "data": {
            "text/html": [
              "<div>\n",
              "<style scoped>\n",
              "    .dataframe tbody tr th:only-of-type {\n",
              "        vertical-align: middle;\n",
              "    }\n",
              "\n",
              "    .dataframe tbody tr th {\n",
              "        vertical-align: top;\n",
              "    }\n",
              "\n",
              "    .dataframe thead th {\n",
              "        text-align: right;\n",
              "    }\n",
              "</style>\n",
              "<table border=\"1\" class=\"dataframe\">\n",
              "  <thead>\n",
              "    <tr style=\"text-align: right;\">\n",
              "      <th></th>\n",
              "      <th>id</th>\n",
              "      <th>date</th>\n",
              "      <th>price</th>\n",
              "      <th>bedrooms</th>\n",
              "      <th>bathrooms</th>\n",
              "      <th>sqft_living</th>\n",
              "      <th>sqft_lot</th>\n",
              "      <th>floors</th>\n",
              "      <th>waterfront</th>\n",
              "      <th>view</th>\n",
              "      <th>condition</th>\n",
              "      <th>grade</th>\n",
              "      <th>sqft_above</th>\n",
              "      <th>sqft_basement</th>\n",
              "      <th>yr_built</th>\n",
              "      <th>yr_renovated</th>\n",
              "      <th>zipcode</th>\n",
              "      <th>lat</th>\n",
              "      <th>long</th>\n",
              "      <th>sqft_living15</th>\n",
              "      <th>sqft_lot15</th>\n",
              "    </tr>\n",
              "  </thead>\n",
              "  <tbody>\n",
              "    <tr>\n",
              "      <th>0</th>\n",
              "      <td>7129300520</td>\n",
              "      <td>20141013T000000</td>\n",
              "      <td>221900.0</td>\n",
              "      <td>3</td>\n",
              "      <td>1.00</td>\n",
              "      <td>1180</td>\n",
              "      <td>5650</td>\n",
              "      <td>1.0</td>\n",
              "      <td>0</td>\n",
              "      <td>0</td>\n",
              "      <td>3</td>\n",
              "      <td>7</td>\n",
              "      <td>1180</td>\n",
              "      <td>0</td>\n",
              "      <td>1955</td>\n",
              "      <td>0</td>\n",
              "      <td>98178</td>\n",
              "      <td>47.5112</td>\n",
              "      <td>-122.257</td>\n",
              "      <td>1340</td>\n",
              "      <td>5650</td>\n",
              "    </tr>\n",
              "    <tr>\n",
              "      <th>1</th>\n",
              "      <td>6414100192</td>\n",
              "      <td>20141209T000000</td>\n",
              "      <td>538000.0</td>\n",
              "      <td>3</td>\n",
              "      <td>2.25</td>\n",
              "      <td>2570</td>\n",
              "      <td>7242</td>\n",
              "      <td>2.0</td>\n",
              "      <td>0</td>\n",
              "      <td>0</td>\n",
              "      <td>3</td>\n",
              "      <td>7</td>\n",
              "      <td>2170</td>\n",
              "      <td>400</td>\n",
              "      <td>1951</td>\n",
              "      <td>1991</td>\n",
              "      <td>98125</td>\n",
              "      <td>47.7210</td>\n",
              "      <td>-122.319</td>\n",
              "      <td>1690</td>\n",
              "      <td>7639</td>\n",
              "    </tr>\n",
              "    <tr>\n",
              "      <th>2</th>\n",
              "      <td>5631500400</td>\n",
              "      <td>20150225T000000</td>\n",
              "      <td>180000.0</td>\n",
              "      <td>2</td>\n",
              "      <td>1.00</td>\n",
              "      <td>770</td>\n",
              "      <td>10000</td>\n",
              "      <td>1.0</td>\n",
              "      <td>0</td>\n",
              "      <td>0</td>\n",
              "      <td>3</td>\n",
              "      <td>6</td>\n",
              "      <td>770</td>\n",
              "      <td>0</td>\n",
              "      <td>1933</td>\n",
              "      <td>0</td>\n",
              "      <td>98028</td>\n",
              "      <td>47.7379</td>\n",
              "      <td>-122.233</td>\n",
              "      <td>2720</td>\n",
              "      <td>8062</td>\n",
              "    </tr>\n",
              "    <tr>\n",
              "      <th>3</th>\n",
              "      <td>2487200875</td>\n",
              "      <td>20141209T000000</td>\n",
              "      <td>604000.0</td>\n",
              "      <td>4</td>\n",
              "      <td>3.00</td>\n",
              "      <td>1960</td>\n",
              "      <td>5000</td>\n",
              "      <td>1.0</td>\n",
              "      <td>0</td>\n",
              "      <td>0</td>\n",
              "      <td>5</td>\n",
              "      <td>7</td>\n",
              "      <td>1050</td>\n",
              "      <td>910</td>\n",
              "      <td>1965</td>\n",
              "      <td>0</td>\n",
              "      <td>98136</td>\n",
              "      <td>47.5208</td>\n",
              "      <td>-122.393</td>\n",
              "      <td>1360</td>\n",
              "      <td>5000</td>\n",
              "    </tr>\n",
              "    <tr>\n",
              "      <th>4</th>\n",
              "      <td>1954400510</td>\n",
              "      <td>20150218T000000</td>\n",
              "      <td>510000.0</td>\n",
              "      <td>3</td>\n",
              "      <td>2.00</td>\n",
              "      <td>1680</td>\n",
              "      <td>8080</td>\n",
              "      <td>1.0</td>\n",
              "      <td>0</td>\n",
              "      <td>0</td>\n",
              "      <td>3</td>\n",
              "      <td>8</td>\n",
              "      <td>1680</td>\n",
              "      <td>0</td>\n",
              "      <td>1987</td>\n",
              "      <td>0</td>\n",
              "      <td>98074</td>\n",
              "      <td>47.6168</td>\n",
              "      <td>-122.045</td>\n",
              "      <td>1800</td>\n",
              "      <td>7503</td>\n",
              "    </tr>\n",
              "  </tbody>\n",
              "</table>\n",
              "</div>"
            ],
            "text/plain": [
              "           id             date     price  ...     long  sqft_living15  sqft_lot15\n",
              "0  7129300520  20141013T000000  221900.0  ... -122.257           1340        5650\n",
              "1  6414100192  20141209T000000  538000.0  ... -122.319           1690        7639\n",
              "2  5631500400  20150225T000000  180000.0  ... -122.233           2720        8062\n",
              "3  2487200875  20141209T000000  604000.0  ... -122.393           1360        5000\n",
              "4  1954400510  20150218T000000  510000.0  ... -122.045           1800        7503\n",
              "\n",
              "[5 rows x 21 columns]"
            ]
          },
          "metadata": {
            "tags": []
          },
          "execution_count": 85
        }
      ]
    },
    {
      "cell_type": "code",
      "metadata": {
        "id": "n98KiImWR2or"
      },
      "source": [
        "# split the dataset\n",
        "X_cols = [\n",
        " 'bedrooms',\n",
        " 'bathrooms',\n",
        " 'sqft_living',\n",
        " 'sqft_lot',\n",
        " 'floors',\n",
        " 'waterfront',\n",
        " 'view',\n",
        " 'condition',\n",
        " 'grade',\n",
        " 'sqft_above',\n",
        " 'sqft_basement',\n",
        " 'yr_built',\n",
        " 'yr_renovated',\n",
        " 'zipcode',\n",
        " 'lat',\n",
        " 'long',\n",
        " 'sqft_living15',\n",
        " 'sqft_lot15']\n",
        "\n",
        "target = ['price']\n",
        "\n",
        "X = df[X_cols]\n",
        "y = df[target]\n",
        "\n",
        "X_train, X_test, y_train, y_test = train_test_split(X, y, test_size=0.20, random_state=1)\n",
        "\n",
        "# organize the split data into sets\n",
        "train_set = X_train.copy(deep=True)\n",
        "train_set['price']= y_train\n",
        "\n",
        "test_set = X_test.copy(deep=True)\n",
        "test_set['price']= y_test"
      ],
      "execution_count": null,
      "outputs": []
    },
    {
      "cell_type": "code",
      "metadata": {
        "id": "Brmnraj-Sr_t"
      },
      "source": [
        "# standardize the data\n",
        "scaler = StandardScaler()\n",
        "scaler.fit(train_set)\n",
        "\n",
        "train_set_scaled = scaler.transform(train_set)\n",
        "test_set_scaled = scaler.transform(test_set)\n",
        "\n",
        "train_set_scaled_df = pd.DataFrame(train_set_scaled, index=train_set.index, columns=train_set.columns)\n",
        "test_set_scaled_df = pd.DataFrame(test_set_scaled, index=test_set.index, columns=test_set.columns)\n",
        "\n",
        "X_train_scaled_df = train_set_scaled_df[X_cols]\n",
        "y_train_scaled_df = train_set_scaled_df[target]\n",
        "\n",
        "X_test_scaled_df = test_set_scaled_df[X_cols]\n",
        "y_test_scaled_df = test_set_scaled_df[target]\n",
        "\n",
        "X_train_std = np.array(X_train_scaled_df)\n",
        "y_train_std = np.array(y_train_scaled_df)\n",
        "\n",
        "X_test_std = np.array(X_test_scaled_df)\n",
        "y_test_std = np.array(y_test_scaled_df)"
      ],
      "execution_count": null,
      "outputs": []
    },
    {
      "cell_type": "code",
      "metadata": {
        "id": "Pl-xGDuCSOJ0"
      },
      "source": [
        "# method 1: perform linear regression with regularization\n",
        "alphas=[]\n",
        "alphas = [math.pow(10,(i)) for i in range(-2,11)]\n",
        "\n",
        "rmse_train_array = []\n",
        "rmse_test_array = []\n",
        "\n",
        "for i in range(len(alphas)):\n",
        "  clf = Ridge(alpha=alphas[i])\n",
        "  reg = clf.fit(X_train_std, y_train_std)\n",
        "\n",
        "  y_pred_train = reg.predict(X_train_std)\n",
        "  y_pred_test = reg.predict(X_test_std)\n",
        "\n",
        "  rmse_train = rmse(y_pred_train, y_train_std)\n",
        "  rmse_test = rmse(y_pred_test, y_test_std)\n",
        "\n",
        "  rmse_train_array.append(rmse_train)\n",
        "  rmse_test_array.append(rmse_test)"
      ],
      "execution_count": null,
      "outputs": []
    },
    {
      "cell_type": "code",
      "metadata": {
        "colab": {
          "base_uri": "https://localhost:8080/",
          "height": 285
        },
        "id": "nGIPAKoiVqD7",
        "outputId": "f589c818-25bf-41a0-bf15-8600cca9c910"
      },
      "source": [
        "# print results\n",
        "fig, axs = plt.subplots()\n",
        "\n",
        "axs.plot(alphas, rmse_train_array, label = 'Training Set')\n",
        "axs.plot(alphas, rmse_test_array, label = 'Validation Set')\n",
        "\n",
        "axs.set_xscale('log')\n",
        "\n",
        "plt.legend()\n",
        "plt.xlabel(\"alppha\")\n",
        "plt.ylabel(\"RMSE\")\n",
        "plt.show()"
      ],
      "execution_count": null,
      "outputs": [
        {
          "output_type": "display_data",
          "data": {
            "image/png": "[encoded data removed]",
            "text/plain": [
              "<Figure size 432x288 with 1 Axes>"
            ]
          },
          "metadata": {
            "tags": [],
            "needs_background": "light"
          }
        }
      ]
    },
    {
      "cell_type": "code",
      "metadata": {
        "colab": {
          "base_uri": "https://localhost:8080/"
        },
        "id": "5fxYyEf2WdJ0",
        "outputId": "c104528c-d4b7-41ee-84bf-11c9b25efa3e"
      },
      "source": [
        "rmse_train_array, rmse_test_array"
      ],
      "execution_count": null,
      "outputs": [
        {
          "output_type": "execute_result",
          "data": {
            "text/plain": [
              "([0.5443152531144775,\n",
              "  0.5443152531297603,\n",
              "  0.5443152546575966,\n",
              "  0.5443154070030932,\n",
              "  0.5443302161679543,\n",
              "  0.5454840217289066,\n",
              "  0.5785846241758912,\n",
              "  0.7751026259135706,\n",
              "  0.9599785225514114,\n",
              "  0.9956570336107382,\n",
              "  0.9995619714880102,\n",
              "  0.9999561594756375,\n",
              "  0.9999956155704744],\n",
              " [0.6578259156277917,\n",
              "  0.6578262712800871,\n",
              "  0.6578298286759033,\n",
              "  0.6578654895864042,\n",
              "  0.6582304704930602,\n",
              "  0.6624741354721558,\n",
              "  0.7110394249576422,\n",
              "  0.9343462115836244,\n",
              "  1.131940897392036,\n",
              "  1.1695416932236962,\n",
              "  1.1736494576435,\n",
              "  1.174064041429577,\n",
              "  1.1741055382434473])"
            ]
          },
          "metadata": {
            "tags": []
          },
          "execution_count": 90
        }
      ]
    },
    {
      "cell_type": "code",
      "metadata": {
        "colab": {
          "base_uri": "https://localhost:8080/"
        },
        "id": "5l1GQXp5V4lX",
        "outputId": "4ee6563e-b1e2-43a9-8682-daf91781f7f6"
      },
      "source": [
        "# method 2: perform linear regression\n",
        "reg = LinearRegression().fit(X_train_std, y_train_std)\n",
        "\n",
        "y_pred_train = reg.predict(X_train_std)\n",
        "y_pred_test = reg.predict(X_test_std)\n",
        "\n",
        "rmse_train = rmse(y_pred_train, y_train_std)\n",
        "rmse_test = rmse(y_pred_test, y_test_std)\n",
        "\n",
        "# print results\n",
        "print('RMSE Training: ', rmse_train)\n",
        "print('RMSE Validation: ', rmse_test)"
      ],
      "execution_count": null,
      "outputs": [
        {
          "output_type": "stream",
          "text": [
            "RMSE Training:  0.5443152531143232\n",
            "RMSE Validation:  0.6578258761118501\n"
          ],
          "name": "stdout"
        }
      ]
    }
  ]
}